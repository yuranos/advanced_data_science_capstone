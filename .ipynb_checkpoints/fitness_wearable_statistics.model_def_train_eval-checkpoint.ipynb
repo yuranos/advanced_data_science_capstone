{
 "cells": [
  {
   "cell_type": "markdown",
   "id": "06c9255e",
   "metadata": {
    "pycharm": {
     "name": "#%% md\n"
    }
   },
   "source": [
    "### Load previously stored datasets\n",
    "Before we define our model(s), let's load the datasets from the previous notebook:"
   ]
  },
  {
   "cell_type": "code",
   "execution_count": 54,
   "id": "6c8d8e10-4197-4a1b-bce2-74c327401ca8",
   "metadata": {},
   "outputs": [],
   "source": [
    "%store -r features\n",
    "%store -r labels"
   ]
  },
  {
   "cell_type": "markdown",
   "id": "066ad957-2552-481a-a8df-8e9861629d4f",
   "metadata": {},
   "source": [
    "In the process of studying this specialization, `scikit-learn` and `keras` became my favorite libraries for ML and I will use the former for traditional model and the latter for neural network.\n",
    "\n",
    "`scikit-learn` has amazing documentation with examples and a very active community of users.\n",
    "\n",
    "`keras` is natively integrated with `tensorflow`, and provides a very intuitive high-level interface for developing NN."
   ]
  },
  {
   "cell_type": "code",
   "execution_count": 56,
   "id": "8c4577bb-6b60-474c-aeb0-81bd512ee6b7",
   "metadata": {},
   "outputs": [
    {
     "name": "stdout",
     "output_type": "stream",
     "text": [
      "1.1.2\n"
     ]
    }
   ],
   "source": [
    "!python -c 'import sklearn; print(sklearn.__version__)'"
   ]
  },
  {
   "cell_type": "code",
   "execution_count": 55,
   "id": "30a6dec1-116f-4e3c-98ce-bf95f44abf9b",
   "metadata": {},
   "outputs": [
    {
     "name": "stdout",
     "output_type": "stream",
     "text": [
      "2022-11-21 13:26:27.439203: I tensorflow/core/platform/cpu_feature_guard.cc:193] This TensorFlow binary is optimized with oneAPI Deep Neural Network Library (oneDNN) to use the following CPU instructions in performance-critical operations:  AVX2 FMA\n",
      "To enable them in other operations, rebuild TensorFlow with the appropriate compiler flags.\n",
      "2022-11-21 13:26:27.561938: W tensorflow/compiler/xla/stream_executor/platform/default/dso_loader.cc:64] Could not load dynamic library 'libcudart.so.11.0'; dlerror: libcudart.so.11.0: cannot open shared object file: No such file or directory\n",
      "2022-11-21 13:26:27.561963: I tensorflow/compiler/xla/stream_executor/cuda/cudart_stub.cc:29] Ignore above cudart dlerror if you do not have a GPU set up on your machine.\n",
      "2022-11-21 13:26:28.181404: W tensorflow/compiler/xla/stream_executor/platform/default/dso_loader.cc:64] Could not load dynamic library 'libnvinfer.so.7'; dlerror: libnvinfer.so.7: cannot open shared object file: No such file or directory\n",
      "2022-11-21 13:26:28.181457: W tensorflow/compiler/xla/stream_executor/platform/default/dso_loader.cc:64] Could not load dynamic library 'libnvinfer_plugin.so.7'; dlerror: libnvinfer_plugin.so.7: cannot open shared object file: No such file or directory\n",
      "2022-11-21 13:26:28.181467: W tensorflow/compiler/tf2tensorrt/utils/py_utils.cc:38] TF-TRT Warning: Cannot dlopen some TensorRT libraries. If you would like to use Nvidia GPU with TensorRT, please make sure the missing libraries mentioned above are installed properly.\n",
      "2.11.0\n"
     ]
    }
   ],
   "source": [
    "!python -c 'import keras; print(keras.__version__)'"
   ]
  },
  {
   "cell_type": "markdown",
   "id": "dc4af497-c5ef-4544-88f0-b9c4ce013111",
   "metadata": {},
   "source": [
    "### Traditional ML model"
   ]
  },
  {
   "cell_type": "markdown",
   "id": "ff14c1cd-1271-4972-89aa-fc6acfd3035d",
   "metadata": {},
   "source": [
    "Let's start with traditional classification model. Among the classification methods I want to try Random Forest and see how it performs. Comparing it with other algoriths I know:\n",
    "\n",
    "Naive Bayes assumes there's no correlation between features. While we saw in data exp module that the correlation is very low, I know that in data generation I made some features somewhat dependent on others.\n",
    "\n",
    "As for SVM, it might be better for binary classification problem. However, I've leared that SVM is quite picky about the input data(features) and also doesn't produce probability, so there's an extra step to calculate it. Also, some specific issues SVM handles better than Random Forest, like high number of features, is not applicable. And Random Forest is also in most cases faster to train."
   ]
  },
  {
   "cell_type": "code",
   "execution_count": 57,
   "id": "2001e732-6e0e-4dc8-ac21-9dae1617b0de",
   "metadata": {},
   "outputs": [],
   "source": [
    "from sklearn.model_selection import train_test_split\n",
    "from sklearn.ensemble import RandomForestClassifier\n",
    "\n",
    "x_train, x_test, y_train, y_test = train_test_split(features, labels, test_size=0.25, random_state=0)\n",
    "rf = RandomForestClassifier(max_depth=2, random_state=0)"
   ]
  },
  {
   "cell_type": "markdown",
   "id": "1e09e948-793b-4b1a-b603-ee27d7759084",
   "metadata": {},
   "source": [
    "Let's train the model now:"
   ]
  },
  {
   "cell_type": "code",
   "execution_count": 58,
   "id": "ff69c2c3-9e14-492f-9c70-b81a7c06528d",
   "metadata": {},
   "outputs": [
    {
     "data": {
      "text/html": [
       "<style>#sk-container-id-2 {color: black;background-color: white;}#sk-container-id-2 pre{padding: 0;}#sk-container-id-2 div.sk-toggleable {background-color: white;}#sk-container-id-2 label.sk-toggleable__label {cursor: pointer;display: block;width: 100%;margin-bottom: 0;padding: 0.3em;box-sizing: border-box;text-align: center;}#sk-container-id-2 label.sk-toggleable__label-arrow:before {content: \"▸\";float: left;margin-right: 0.25em;color: #696969;}#sk-container-id-2 label.sk-toggleable__label-arrow:hover:before {color: black;}#sk-container-id-2 div.sk-estimator:hover label.sk-toggleable__label-arrow:before {color: black;}#sk-container-id-2 div.sk-toggleable__content {max-height: 0;max-width: 0;overflow: hidden;text-align: left;background-color: #f0f8ff;}#sk-container-id-2 div.sk-toggleable__content pre {margin: 0.2em;color: black;border-radius: 0.25em;background-color: #f0f8ff;}#sk-container-id-2 input.sk-toggleable__control:checked~div.sk-toggleable__content {max-height: 200px;max-width: 100%;overflow: auto;}#sk-container-id-2 input.sk-toggleable__control:checked~label.sk-toggleable__label-arrow:before {content: \"▾\";}#sk-container-id-2 div.sk-estimator input.sk-toggleable__control:checked~label.sk-toggleable__label {background-color: #d4ebff;}#sk-container-id-2 div.sk-label input.sk-toggleable__control:checked~label.sk-toggleable__label {background-color: #d4ebff;}#sk-container-id-2 input.sk-hidden--visually {border: 0;clip: rect(1px 1px 1px 1px);clip: rect(1px, 1px, 1px, 1px);height: 1px;margin: -1px;overflow: hidden;padding: 0;position: absolute;width: 1px;}#sk-container-id-2 div.sk-estimator {font-family: monospace;background-color: #f0f8ff;border: 1px dotted black;border-radius: 0.25em;box-sizing: border-box;margin-bottom: 0.5em;}#sk-container-id-2 div.sk-estimator:hover {background-color: #d4ebff;}#sk-container-id-2 div.sk-parallel-item::after {content: \"\";width: 100%;border-bottom: 1px solid gray;flex-grow: 1;}#sk-container-id-2 div.sk-label:hover label.sk-toggleable__label {background-color: #d4ebff;}#sk-container-id-2 div.sk-serial::before {content: \"\";position: absolute;border-left: 1px solid gray;box-sizing: border-box;top: 0;bottom: 0;left: 50%;z-index: 0;}#sk-container-id-2 div.sk-serial {display: flex;flex-direction: column;align-items: center;background-color: white;padding-right: 0.2em;padding-left: 0.2em;position: relative;}#sk-container-id-2 div.sk-item {position: relative;z-index: 1;}#sk-container-id-2 div.sk-parallel {display: flex;align-items: stretch;justify-content: center;background-color: white;position: relative;}#sk-container-id-2 div.sk-item::before, #sk-container-id-2 div.sk-parallel-item::before {content: \"\";position: absolute;border-left: 1px solid gray;box-sizing: border-box;top: 0;bottom: 0;left: 50%;z-index: -1;}#sk-container-id-2 div.sk-parallel-item {display: flex;flex-direction: column;z-index: 1;position: relative;background-color: white;}#sk-container-id-2 div.sk-parallel-item:first-child::after {align-self: flex-end;width: 50%;}#sk-container-id-2 div.sk-parallel-item:last-child::after {align-self: flex-start;width: 50%;}#sk-container-id-2 div.sk-parallel-item:only-child::after {width: 0;}#sk-container-id-2 div.sk-dashed-wrapped {border: 1px dashed gray;margin: 0 0.4em 0.5em 0.4em;box-sizing: border-box;padding-bottom: 0.4em;background-color: white;}#sk-container-id-2 div.sk-label label {font-family: monospace;font-weight: bold;display: inline-block;line-height: 1.2em;}#sk-container-id-2 div.sk-label-container {text-align: center;}#sk-container-id-2 div.sk-container {/* jupyter's `normalize.less` sets `[hidden] { display: none; }` but bootstrap.min.css set `[hidden] { display: none !important; }` so we also need the `!important` here to be able to override the default hidden behavior on the sphinx rendered scikit-learn.org. See: https://github.com/scikit-learn/scikit-learn/issues/21755 */display: inline-block !important;position: relative;}#sk-container-id-2 div.sk-text-repr-fallback {display: none;}</style><div id=\"sk-container-id-2\" class=\"sk-top-container\"><div class=\"sk-text-repr-fallback\"><pre>RandomForestClassifier(max_depth=2, random_state=0)</pre><b>In a Jupyter environment, please rerun this cell to show the HTML representation or trust the notebook. <br />On GitHub, the HTML representation is unable to render, please try loading this page with nbviewer.org.</b></div><div class=\"sk-container\" hidden><div class=\"sk-item\"><div class=\"sk-estimator sk-toggleable\"><input class=\"sk-toggleable__control sk-hidden--visually\" id=\"sk-estimator-id-2\" type=\"checkbox\" checked><label for=\"sk-estimator-id-2\" class=\"sk-toggleable__label sk-toggleable__label-arrow\">RandomForestClassifier</label><div class=\"sk-toggleable__content\"><pre>RandomForestClassifier(max_depth=2, random_state=0)</pre></div></div></div></div></div>"
      ],
      "text/plain": [
       "RandomForestClassifier(max_depth=2, random_state=0)"
      ]
     },
     "execution_count": 58,
     "metadata": {},
     "output_type": "execute_result"
    }
   ],
   "source": [
    "rf.fit(x_train, y_train)"
   ]
  },
  {
   "cell_type": "markdown",
   "id": "9c56a185-dc1b-46b4-a68c-62744515f456",
   "metadata": {},
   "source": [
    "Next, let's try to predict test dataset to measure model's performance:"
   ]
  },
  {
   "cell_type": "code",
   "execution_count": 59,
   "id": "53435283-e8b8-40b0-b235-a4861f0f4347",
   "metadata": {},
   "outputs": [],
   "source": [
    "y_pred_rf = rf.predict(x_test)"
   ]
  },
  {
   "cell_type": "markdown",
   "id": "29e0c7ff-5e49-42a9-94b0-f5a9dbbb74a0",
   "metadata": {},
   "source": [
    "Let's measure our model performance:"
   ]
  },
  {
   "cell_type": "code",
   "execution_count": 60,
   "id": "c0d397af-d8eb-407c-a9c0-240123e4557c",
   "metadata": {},
   "outputs": [
    {
     "data": {
      "text/plain": [
       "0.764"
      ]
     },
     "execution_count": 60,
     "metadata": {},
     "output_type": "execute_result"
    }
   ],
   "source": [
    "import numpy as np\n",
    "import pandas as pd\n",
    "import matplotlib.pyplot as plt\n",
    "import seaborn as sns\n",
    "\n",
    "from sklearn.model_selection import train_test_split\n",
    "from sklearn.ensemble import RandomForestClassifier\n",
    "from sklearn.metrics import accuracy_score, confusion_matrix, classification_report\n",
    "\n",
    "accuracy_score(y_test, y_pred_rf)"
   ]
  },
  {
   "cell_type": "markdown",
   "id": "66202d4a-3176-4445-af0b-bebfc00c9088",
   "metadata": {},
   "source": [
    "Let's look at the confusion matrix:"
   ]
  },
  {
   "cell_type": "code",
   "execution_count": 61,
   "id": "3742eb74-2ab2-4e3c-a02f-bb3275bcd0f8",
   "metadata": {},
   "outputs": [
    {
     "data": {
      "text/plain": [
       "<AxesSubplot: xlabel='Predicted', ylabel='Actual'>"
      ]
     },
     "execution_count": 61,
     "metadata": {},
     "output_type": "execute_result"
    },
    {
     "data": {
      "image/png": "[encoded data removed]",
      "text/plain": [
       "<Figure size 720x504 with 2 Axes>"
      ]
     },
     "metadata": {
      "needs_background": "light"
     },
     "output_type": "display_data"
    }
   ],
   "source": [
    "from sklearn.metrics import confusion_matrix\n",
    "import pandas as pd\n",
    "import seaborn as sn\n",
    "import matplotlib.pyplot as plt\n",
    "import numpy as np\n",
    "\n",
    "%matplotlib inline\n",
    "\n",
    "matrix = confusion_matrix(y_test, y_pred_rf)\n",
    "df_cm = pd.DataFrame(matrix, columns=np.unique(y_test), index = np.unique(y_test))\n",
    "df_cm.index.name = 'Actual'\n",
    "df_cm.columns.name = 'Predicted'\n",
    "plt.figure(figsize = (10,7))\n",
    "sn.set(font_scale=1.4)\n",
    "sn.heatmap(df_cm, cmap=\"Blues\", annot=True, annot_kws={\"size\": 16}, fmt='f')"
   ]
  },
  {
   "cell_type": "markdown",
   "id": "fd309728-12a4-4132-af90-7209b644bb9c",
   "metadata": {},
   "source": [
    "This model has an accuracy score of 76.4% on the test data. It's not perfect, but maybe not so bad either considering the degree of randomization and low correlation between features.\n",
    "However, let's look at other metrics as **accuracy is not a great measure of classifier performance when the classes are imbalanced**. We remember that we have twice as many sticklers as non-sticklers.\n",
    "With that said, we need to identify a metric that best fits our usecase.\n",
    "\n",
    "**Apart from accuracy, we should look at precision and recall**. All of them are good metrics for binary classification problem.\n",
    "However, before we even start, let's think of usecases when precision and recall are applicable. Precision is best suited for situations when we need to be very sure about identified positives(FP should be low). Recall is well suited when we need to identify as many true positives as possible(FN should be low).\n",
    "\n",
    "In our case, we don't really know if our model will be used with aiming for high precision or recall. Is there a middle groud? It turns out, there is! It's called F1 score.\n",
    "What is it? It's a metric to use if we want to have a model with both good precision and recall. If your precision is low, the F1 is low and if the recall is low again your F1 score is low.\n"
   ]
  },
  {
   "cell_type": "code",
   "execution_count": 62,
   "id": "c9078b7f-32ac-4460-80c2-d85d21e05ea6",
   "metadata": {},
   "outputs": [
    {
     "data": {
      "text/plain": [
       "0.8467532467532468"
      ]
     },
     "execution_count": 62,
     "metadata": {},
     "output_type": "execute_result"
    }
   ],
   "source": [
    "from sklearn.metrics import f1_score\n",
    "\n",
    "f1_score(y_test, y_pred_rf)"
   ]
  },
  {
   "cell_type": "markdown",
   "id": "79811917-9081-4305-ae36-14e76bf81ec1",
   "metadata": {},
   "source": [
    "Let's also build an entire classification report:"
   ]
  },
  {
   "cell_type": "code",
   "execution_count": 63,
   "id": "029a00a4-9064-42ac-bec4-68ca642ca298",
   "metadata": {},
   "outputs": [
    {
     "name": "stdout",
     "output_type": "stream",
     "text": [
      "              precision    recall  f1-score   support\n",
      "\n",
      "       False       0.84      0.34      0.49       245\n",
      "        True       0.75      0.97      0.85       505\n",
      "\n",
      "    accuracy                           0.76       750\n",
      "   macro avg       0.80      0.66      0.67       750\n",
      "weighted avg       0.78      0.76      0.73       750\n",
      "\n"
     ]
    }
   ],
   "source": [
    "print(classification_report(y_test, y_pred_rf))"
   ]
  },
  {
   "cell_type": "markdown",
   "id": "fba37ab2-9f92-46af-8580-089f6cf8509b",
   "metadata": {},
   "source": [
    "Ok, before moving to ANN, Id' like to try another trick. I'd like to use hyperparameter tuning to see if traditional classification model can be improved with it:"
   ]
  },
  {
   "cell_type": "code",
   "execution_count": 69,
   "id": "d3b0d3d7-3ad6-4263-9bcc-9ec8cb3bacc1",
   "metadata": {},
   "outputs": [
    {
     "name": "stdout",
     "output_type": "stream",
     "text": [
      "{'n_estimators': [50, 100, 150], 'max_features': ['sqrt', 'log2'], 'max_depth': [5, 10, 15, 20, 25, 30, 35, 40, 45, 50, None], 'min_samples_split': [2, 5, 10], 'min_samples_leaf': [1, 2, 4]}\n"
     ]
    }
   ],
   "source": [
    "from sklearn.model_selection import RandomizedSearchCV\n",
    "\n",
    "n_estimators = [int(x) for x in range(50,200,50)]\n",
    "# Number of features to consider at every split\n",
    "max_features = ['sqrt', 'log2']\n",
    "# Maximum number of levels in tree\n",
    "max_depth = [int(x) for x in np.linspace(5, 50, num = 10)]\n",
    "max_depth.append(None)\n",
    "min_samples_split = [2, 5, 10]\n",
    "min_samples_leaf = [1, 2, 4]\n",
    "\n",
    "# Create the random grid\n",
    "random_grid = {'n_estimators': n_estimators,\n",
    "               'max_features': max_features,\n",
    "               'max_depth': max_depth,\n",
    "               'min_samples_split': min_samples_split,\n",
    "               'min_samples_leaf': min_samples_leaf}\n",
    "print(random_grid)"
   ]
  },
  {
   "cell_type": "markdown",
   "id": "d167776e-62bb-4e7c-be20-aed5df22dfc4",
   "metadata": {},
   "source": [
    "We can now use `random_grid` together with `RandomizedSearchCV` to fit `RandomForestClassifier` over multiple hyperparameters in parallel.\n",
    "\n",
    "Notice that I'm passing 'f1' as scoring method. Otherwise, default RandomForestClassifier scoring is used, and it's not what we want."
   ]
  },
  {
   "cell_type": "code",
   "execution_count": 74,
   "id": "d4a19030-2f61-460e-9f7b-1b070cdf6aa0",
   "metadata": {},
   "outputs": [
    {
     "data": {
      "text/plain": [
       "{'n_estimators': 150,\n",
       " 'min_samples_split': 2,\n",
       " 'min_samples_leaf': 4,\n",
       " 'max_features': 'log2',\n",
       " 'max_depth': None}"
      ]
     },
     "execution_count": 74,
     "metadata": {},
     "output_type": "execute_result"
    }
   ],
   "source": [
    "rf = RandomForestClassifier()\n",
    "\n",
    "rf_random = RandomizedSearchCV(estimator = rf,\n",
    "                               param_distributions = random_grid,\n",
    "                               n_iter = 10,\n",
    "                               cv = 3,\n",
    "                               verbose=0,\n",
    "                               random_state=0,\n",
    "                               n_jobs = -1, #use all cores\n",
    "                               scoring='f1')\n",
    "# Fit the random search model\n",
    "rf_random.fit(x_train, y_train)\n",
    "rf_random.best_params_"
   ]
  },
  {
   "cell_type": "markdown",
   "id": "33313ad9-82d2-4f40-bc80-edaae5b3228d",
   "metadata": {},
   "source": [
    "As we can see,  after trying out different hyperparameter combinations we have a winner. Let's see if this winner is better than our initial model:"
   ]
  },
  {
   "cell_type": "code",
   "execution_count": 76,
   "id": "7abb5936-defb-48ab-a9b6-08406ff56229",
   "metadata": {},
   "outputs": [
    {
     "data": {
      "text/plain": [
       "0.8956937799043063"
      ]
     },
     "execution_count": 76,
     "metadata": {},
     "output_type": "execute_result"
    }
   ],
   "source": [
    "y_pred_rf = rf_random.best_estimator_.predict(x_test)\n",
    "f1_score(y_test, y_pred_rf)"
   ]
  },
  {
   "cell_type": "markdown",
   "id": "aebf6c46-db59-4815-8ff8-f2636fa3d25c",
   "metadata": {},
   "source": [
    "Yes, it is somewhat better, as before hyperparameter tuning our `f1` score was 0.8467532467532468.\n",
    "\n",
    "But let's also look at confusion matrix to see a full picture of improvement."
   ]
  },
  {
   "cell_type": "code",
   "execution_count": 78,
   "id": "ed773757-1952-499f-ba93-b2a2308d52d9",
   "metadata": {},
   "outputs": [
    {
     "data": {
      "text/plain": [
       "<AxesSubplot: xlabel='Predicted', ylabel='Actual'>"
      ]
     },
     "execution_count": 78,
     "metadata": {},
     "output_type": "execute_result"
    },
    {
     "data": {
      "image/png": "[encoded data removed]",
      "text/plain": [
       "<Figure size 720x504 with 2 Axes>"
      ]
     },
     "metadata": {
      "needs_background": "light"
     },
     "output_type": "display_data"
    }
   ],
   "source": [
    "from sklearn.metrics import confusion_matrix\n",
    "import pandas as pd\n",
    "import seaborn as sn\n",
    "import matplotlib.pyplot as plt\n",
    "import numpy as np\n",
    "\n",
    "%matplotlib inline\n",
    "\n",
    "matrix = confusion_matrix(y_test, y_pred_rf)\n",
    "df_cm = pd.DataFrame(matrix, columns=np.unique(y_test), index = np.unique(y_test))\n",
    "df_cm.index.name = 'Actual'\n",
    "df_cm.columns.name = 'Predicted'\n",
    "plt.figure(figsize = (10,7))\n",
    "sn.set(font_scale=1.4)\n",
    "sn.heatmap(df_cm, cmap=\"Blues\", annot=True, annot_kws={\"size\": 16}, fmt='f')"
   ]
  },
  {
   "cell_type": "markdown",
   "id": "e0eb0422-6084-4de1-9022-02f60ab64984",
   "metadata": {},
   "source": [
    "Wow, it's definitely better! FN and FP accounted for 177 rows previously.\n",
    "\n",
    "Now they are just 109."
   ]
  },
  {
   "cell_type": "markdown",
   "id": "24be22a3-3623-4ba8-9d69-6eb57e4c1133",
   "metadata": {},
   "source": [
    "Last but not least, we completely forgot that our features were one-hot encoded and are potentially prone to Dummy Variable Trap. Let's remove one column from two categorical columns we one-hot encoded(`gender` and `marital status`):"
   ]
  },
  {
   "cell_type": "code",
   "execution_count": 80,
   "id": "3d5ccea9-7d5d-4397-a81c-385fe71b1086",
   "metadata": {},
   "outputs": [
    {
     "data": {
      "text/html": [
       "<div>\n",
       "<style scoped>\n",
       "    .dataframe tbody tr th:only-of-type {\n",
       "        vertical-align: middle;\n",
       "    }\n",
       "\n",
       "    .dataframe tbody tr th {\n",
       "        vertical-align: top;\n",
       "    }\n",
       "\n",
       "    .dataframe thead th {\n",
       "        text-align: right;\n",
       "    }\n",
       "</style>\n",
       "<table border=\"1\" class=\"dataframe\">\n",
       "  <thead>\n",
       "    <tr style=\"text-align: right;\">\n",
       "      <th></th>\n",
       "      <th>age</th>\n",
       "      <th>training_before[Y/N]</th>\n",
       "      <th>body_fat[%]</th>\n",
       "      <th>smoking[Y/N]</th>\n",
       "      <th>alcohol_times_week</th>\n",
       "      <th>education</th>\n",
       "      <th>kids</th>\n",
       "      <th>gender_M</th>\n",
       "      <th>marital_status_married</th>\n",
       "      <th>marital_status_separated</th>\n",
       "      <th>marital_status_single</th>\n",
       "      <th>marital_status_widowed</th>\n",
       "    </tr>\n",
       "  </thead>\n",
       "  <tbody>\n",
       "    <tr>\n",
       "      <th>0</th>\n",
       "      <td>37</td>\n",
       "      <td>True</td>\n",
       "      <td>27</td>\n",
       "      <td>False</td>\n",
       "      <td>2</td>\n",
       "      <td>0</td>\n",
       "      <td>2</td>\n",
       "      <td>0</td>\n",
       "      <td>0</td>\n",
       "      <td>0</td>\n",
       "      <td>0</td>\n",
       "      <td>0</td>\n",
       "    </tr>\n",
       "    <tr>\n",
       "      <th>1</th>\n",
       "      <td>19</td>\n",
       "      <td>False</td>\n",
       "      <td>29</td>\n",
       "      <td>True</td>\n",
       "      <td>2</td>\n",
       "      <td>3</td>\n",
       "      <td>0</td>\n",
       "      <td>0</td>\n",
       "      <td>0</td>\n",
       "      <td>0</td>\n",
       "      <td>1</td>\n",
       "      <td>0</td>\n",
       "    </tr>\n",
       "    <tr>\n",
       "      <th>2</th>\n",
       "      <td>40</td>\n",
       "      <td>True</td>\n",
       "      <td>28</td>\n",
       "      <td>False</td>\n",
       "      <td>2</td>\n",
       "      <td>0</td>\n",
       "      <td>2</td>\n",
       "      <td>0</td>\n",
       "      <td>0</td>\n",
       "      <td>0</td>\n",
       "      <td>1</td>\n",
       "      <td>0</td>\n",
       "    </tr>\n",
       "    <tr>\n",
       "      <th>3</th>\n",
       "      <td>42</td>\n",
       "      <td>False</td>\n",
       "      <td>29</td>\n",
       "      <td>False</td>\n",
       "      <td>1</td>\n",
       "      <td>1</td>\n",
       "      <td>3</td>\n",
       "      <td>1</td>\n",
       "      <td>1</td>\n",
       "      <td>0</td>\n",
       "      <td>0</td>\n",
       "      <td>0</td>\n",
       "    </tr>\n",
       "    <tr>\n",
       "      <th>4</th>\n",
       "      <td>22</td>\n",
       "      <td>False</td>\n",
       "      <td>39</td>\n",
       "      <td>False</td>\n",
       "      <td>0</td>\n",
       "      <td>1</td>\n",
       "      <td>1</td>\n",
       "      <td>0</td>\n",
       "      <td>0</td>\n",
       "      <td>0</td>\n",
       "      <td>0</td>\n",
       "      <td>0</td>\n",
       "    </tr>\n",
       "  </tbody>\n",
       "</table>\n",
       "</div>"
      ],
      "text/plain": [
       "   age  training_before[Y/N]  body_fat[%]  smoking[Y/N]  alcohol_times_week  \\\n",
       "0   37                  True           27         False                   2   \n",
       "1   19                 False           29          True                   2   \n",
       "2   40                  True           28         False                   2   \n",
       "3   42                 False           29         False                   1   \n",
       "4   22                 False           39         False                   0   \n",
       "\n",
       "   education  kids  gender_M  marital_status_married  \\\n",
       "0          0     2         0                       0   \n",
       "1          3     0         0                       0   \n",
       "2          0     2         0                       0   \n",
       "3          1     3         1                       1   \n",
       "4          1     1         0                       0   \n",
       "\n",
       "   marital_status_separated  marital_status_single  marital_status_widowed  \n",
       "0                         0                      0                       0  \n",
       "1                         0                      1                       0  \n",
       "2                         0                      1                       0  \n",
       "3                         0                      0                       0  \n",
       "4                         0                      0                       0  "
      ]
     },
     "execution_count": 80,
     "metadata": {},
     "output_type": "execute_result"
    }
   ],
   "source": [
    "features = features.drop('gender_F', axis=1)\n",
    "features = features.drop('marital_status_divorced', axis=1)\n",
    "features.head(5)"
   ]
  },
  {
   "cell_type": "code",
   "execution_count": 81,
   "id": "0dd4112d-9ff6-4d4a-8d67-06db7f701edb",
   "metadata": {},
   "outputs": [
    {
     "data": {
      "text/plain": [
       "0.8987463837994214"
      ]
     },
     "execution_count": 81,
     "metadata": {},
     "output_type": "execute_result"
    }
   ],
   "source": [
    "x_train, x_test, y_train, y_test = train_test_split(features, labels, test_size=0.25, random_state=0)\n",
    "\n",
    "rf_random.fit(x_train, y_train)\n",
    "\n",
    "y_pred_rf = rf_random.best_estimator_.predict(x_test)\n",
    "f1_score(y_test, y_pred_rf)"
   ]
  },
  {
   "cell_type": "code",
   "execution_count": 82,
   "id": "28af1df8-4404-428c-9f35-98485aa36973",
   "metadata": {},
   "outputs": [
    {
     "data": {
      "text/plain": [
       "<AxesSubplot: xlabel='Predicted', ylabel='Actual'>"
      ]
     },
     "execution_count": 82,
     "metadata": {},
     "output_type": "execute_result"
    },
    {
     "data": {
      "image/png": "[encoded data removed]",
      "text/plain": [
       "<Figure size 720x504 with 2 Axes>"
      ]
     },
     "metadata": {
      "needs_background": "light"
     },
     "output_type": "display_data"
    }
   ],
   "source": [
    "from sklearn.metrics import confusion_matrix\n",
    "import pandas as pd\n",
    "import seaborn as sn\n",
    "import matplotlib.pyplot as plt\n",
    "import numpy as np\n",
    "\n",
    "%matplotlib inline\n",
    "\n",
    "matrix = confusion_matrix(y_test, y_pred_rf)\n",
    "df_cm = pd.DataFrame(matrix, columns=np.unique(y_test), index = np.unique(y_test))\n",
    "df_cm.index.name = 'Actual'\n",
    "df_cm.columns.name = 'Predicted'\n",
    "plt.figure(figsize = (10,7))\n",
    "sn.set(font_scale=1.4)\n",
    "sn.heatmap(df_cm, cmap=\"Blues\", annot=True, annot_kws={\"size\": 16}, fmt='f')"
   ]
  },
  {
   "cell_type": "markdown",
   "id": "e563f135-3504-4e68-bc91-a7b36282127f",
   "metadata": {},
   "source": [
    "Now FP+FN amounts to 105 rows. It's a very insignifficant difference, but it's still a bit better, so let's keep this final model as the best on we were able to get with traditional ML algorithms.\n",
    "\n",
    "Let's assign best model to a separate variable to make our notebook and future interactions with the model more intuitive:"
   ]
  },
  {
   "cell_type": "code",
   "execution_count": 85,
   "id": "2a2a71e5-3752-4826-bb32-1a237eaf164b",
   "metadata": {},
   "outputs": [],
   "source": [
    "best_traditional_model = rf_random.best_estimator_"
   ]
  },
  {
   "cell_type": "markdown",
   "id": "40a7ec16-4b5d-4769-93ce-e2784fcd76af",
   "metadata": {},
   "source": [
    "### Deep Learning ML model"
   ]
  },
  {
   "cell_type": "markdown",
   "id": "f8219335-94e9-456d-b5aa-3a1950916db9",
   "metadata": {},
   "source": [
    "Let's try to do the same with ANN.\n",
    "\n",
    "As it turns out, we can wrap Keras model with `KerasClassifier` and use hyperparameter approach from `sklearn`.\n",
    "\n",
    "Overall, our model will have two layers. Hidden layer will have ReLU activation, output layer will have Sigmoid activation. This is the most common approach as Sigmoid suffers from vanishing gradient problem and is usually not used for hidden layers. Sigmoid is best suited in output layer of binary classification.\n",
    "\n",
    "optimizer, init function, epochs and batch size are all hyperparameters and are tuned in the process."
   ]
  },
  {
   "cell_type": "code",
   "execution_count": null,
   "id": "940af621-2586-4712-ac24-8a155d988b3e",
   "metadata": {},
   "outputs": [],
   "source": [
    "from pandas import read_csv\n",
    "from tensorflow.keras.models import Sequential\n",
    "from tensorflow.keras.layers import Dense\n",
    "from scikeras.wrappers import KerasClassifier\n",
    "from sklearn.model_selection import cross_val_score\n",
    "from sklearn.preprocessing import LabelEncoder\n",
    "from sklearn.model_selection import StratifiedKFold\n",
    "from keras import backend as K\n",
    "import tensorflow as tf\n",
    "\n",
    "import os\n",
    "import logging\n",
    "\n",
    "os.environ[\"CUDA_VISIBLE_DEVICES\"] = \"-1\"\n",
    "\n",
    "tf.autograph.set_verbosity(0)\n",
    "logging.getLogger(\"tensorflow\").setLevel(logging.ERROR)\n",
    "\n",
    "# f1 metric is not available by default. Let's build it ourselves:\n",
    "# @tf.autograph.experimental.do_not_convert\n",
    "def recall_m(y_true, y_pred):\n",
    "    true_positives = K.sum(K.round(K.clip(y_true * y_pred, 0, 1)))\n",
    "    possible_positives = K.sum(K.round(K.clip(y_true, 0, 1)))\n",
    "    recall = true_positives / (possible_positives + K.epsilon())\n",
    "    return recall\n",
    "\n",
    "# @tf.autograph.experimental.do_not_convert\n",
    "def precision_m(y_true, y_pred):\n",
    "    true_positives = K.sum(K.round(K.clip(y_true * y_pred, 0, 1)))\n",
    "    predicted_positives = K.sum(K.round(K.clip(y_pred, 0, 1)))\n",
    "    precision = true_positives / (predicted_positives + K.epsilon())\n",
    "    return precision\n",
    "\n",
    "# @tf.autograph.experimental.do_not_convert\n",
    "def f1_m(y_true, y_pred):\n",
    "    precision = precision_m(y_true, y_pred)\n",
    "    recall = recall_m(y_true, y_pred)\n",
    "    return 2*((precision*recall)/(precision+recall+K.epsilon()))\n",
    "\n",
    "def create_model(optimizer='adam', init='glorot_uniform'):\n",
    "    model = Sequential()\n",
    "    model.add(Dense(60, input_shape=(12,), activation='relu', kernel_initializer=init))\n",
    "    model.add(Dense(1, activation='sigmoid'))\n",
    "    model.compile(loss='binary_crossentropy', optimizer=optimizer, metrics=[f1_m])\n",
    "    return model\n",
    "\n",
    "model = KerasClassifier(model=create_model, verbose=0)\n",
    "\n",
    "optimizers = ['rmsprop', 'adam']\n",
    "init = ['glorot_uniform', 'normal', 'uniform']\n",
    "epochs = [10, 20, 50]\n",
    "batches = [10, 20, 50]\n",
    "param_grid = dict(optimizer=optimizers, epochs=epochs, batch_size=batches, model__init=init)\n",
    "grid = RandomizedSearchCV(estimator = model,\n",
    "                               param_distributions = param_grid,\n",
    "                               n_iter = 10,\n",
    "                               cv = 3,\n",
    "                               verbose=0,\n",
    "                               random_state=0,\n",
    "                               n_jobs = -1, #use all cores\n",
    "                               scoring='f1')\n",
    "\n",
    "\n",
    "grid_result = grid.fit(x_train.astype(float), y_train)\n",
    "y_pred_rf = grid_result.best_estimator_.predict(x_test)"
   ]
  },
  {
   "cell_type": "code",
   "execution_count": 135,
   "id": "1793229d-c428-44c6-adbc-7c7e13703ee4",
   "metadata": {},
   "outputs": [
    {
     "data": {
      "text/plain": [
       "0.8849557522123894"
      ]
     },
     "execution_count": 135,
     "metadata": {},
     "output_type": "execute_result"
    }
   ],
   "source": [
    "f1_score(y_test, y_pred_rf)"
   ]
  },
  {
   "cell_type": "code",
   "execution_count": 137,
   "id": "4c8284d9-5e38-4a37-ae19-459e3382bd4b",
   "metadata": {},
   "outputs": [
    {
     "data": {
      "text/plain": [
       "<AxesSubplot: xlabel='Predicted', ylabel='Actual'>"
      ]
     },
     "execution_count": 137,
     "metadata": {},
     "output_type": "execute_result"
    },
    {
     "data": {
      "image/png": "[encoded data removed]",
      "text/plain": [
       "<Figure size 720x504 with 2 Axes>"
      ]
     },
     "metadata": {
      "needs_background": "light"
     },
     "output_type": "display_data"
    }
   ],
   "source": [
    "from sklearn.metrics import confusion_matrix\n",
    "import pandas as pd\n",
    "import seaborn as sn\n",
    "import matplotlib.pyplot as plt\n",
    "import numpy as np\n",
    "\n",
    "%matplotlib inline\n",
    "\n",
    "matrix = confusion_matrix(y_test, y_pred_rf)\n",
    "df_cm = pd.DataFrame(matrix, columns=np.unique(y_test), index = np.unique(y_test))\n",
    "df_cm.index.name = 'Actual'\n",
    "df_cm.columns.name = 'Predicted'\n",
    "plt.figure(figsize = (10,7))\n",
    "sn.set(font_scale=1.4)\n",
    "sn.heatmap(df_cm, cmap=\"Blues\", annot=True, annot_kws={\"size\": 16}, fmt='f')"
   ]
  },
  {
   "cell_type": "markdown",
   "id": "06ae21bf-c31e-4f5b-9574-d25e43171570",
   "metadata": {},
   "source": [
    "As we can see after getting both f1 score and confusion matrix, our NN performs well, but tuned traditional model performed event better.\n",
    "\n",
    "That's why in our next module, model deployment, we will use our best performing traditional model:"
   ]
  },
  {
   "cell_type": "code",
   "execution_count": 138,
   "id": "dc68ce59-1aa4-4539-985a-33974443e9ab",
   "metadata": {},
   "outputs": [
    {
     "name": "stdout",
     "output_type": "stream",
     "text": [
      "Stored 'best_traditional_model' (RandomForestClassifier)\n"
     ]
    }
   ],
   "source": [
    "%store best_traditional_model"
   ]
  },
  {
   "cell_type": "code",
   "execution_count": null,
   "id": "bf0a4271-0136-417b-805e-1e2eca9e7ebc",
   "metadata": {},
   "outputs": [],
   "source": []
  }
 ],
 "metadata": {
  "kernelspec": {
   "display_name": "Python 3 (ipykernel)",
   "language": "python",
   "name": "python3"
  },
  "language_info": {
   "codemirror_mode": {
    "name": "ipython",
    "version": 3
   },
   "file_extension": ".py",
   "mimetype": "text/x-python",
   "name": "python",
   "nbconvert_exporter": "python",
   "pygments_lexer": "ipython3",
   "version": "3.9.13"
  }
 },
 "nbformat": 4,
 "nbformat_minor": 5
}
